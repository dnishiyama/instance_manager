{
 "cells": [
  {
   "cell_type": "code",
   "execution_count": null,
   "metadata": {},
   "outputs": [],
   "source": [
    "# Create a server that runs at given times (9pm, 6am), every hour\n",
    "# To check for which instances are running and give info on them\n",
    "# on both AWS and GCP (and other)\n",
    "# Everyday at 9pm let know the cost of running and number of instances\n",
    "# Every hour, give a notification if the cost is over $x"
   ]
  },
  {
   "cell_type": "code",
   "execution_count": 1,
   "metadata": {
    "ExecuteTime": {
     "end_time": "2020-09-02T00:59:21.080871Z",
     "start_time": "2020-09-02T00:59:19.077016Z"
    }
   },
   "outputs": [],
   "source": [
    "from instance_manager_functions import get_price, Regions, regions, rn2rc, rc2rn, get_instance_details\n",
    "from instance_manager_functions import get_monthly_spend, get_notification_message, run_server"
   ]
  },
  {
   "cell_type": "code",
   "execution_count": null,
   "metadata": {},
   "outputs": [],
   "source": [
    "# GCP instance states: https://cloud.google.com/compute/docs/instances/instance-life-cycle\n",
    "['PROVISIONING', 'STAGING', 'RUNNING', 'STOPPING', 'REPAIRING', 'TERMINATED', 'SUSPENDING', 'SUSPENDED']"
   ]
  },
  {
   "cell_type": "code",
   "execution_count": 6,
   "metadata": {
    "ExecuteTime": {
     "end_time": "2020-09-02T01:00:08.443505Z",
     "start_time": "2020-09-02T01:00:08.298862Z"
    }
   },
   "outputs": [
    {
     "name": "stderr",
     "output_type": "stream",
     "text": [
      "2020-09-01 18:00:08 INFO     Returning hard-coded cost for n1-highmem-8 of 2.14\n"
     ]
    }
   ],
   "source": [
    "# Testing\n",
    "assert get_price('n1-highmem-8', 'us-east1') == 2.14\n",
    "\n",
    "try:\n",
    "    get_price('n1-highmem-7', 'us-east1') == 2.14\n",
    "    assert False, 'should have failed with unknown gcp instance type'\n",
    "except IndexError as i:\n",
    "    pass\n",
    "\n",
    "instance_details = [{'InstanceType': 't2.small',\n",
    "  'RunningDuration': 20,\n",
    "  'State': 'running',\n",
    "  'Name': 'EtymologyExplorer-Ubuntu',\n",
    "  'Region': 'US East (N. Virginia)',\n",
    "  'Price': 0.023},\n",
    " {'InstanceType': 't2.small',\n",
    "  'RunningDuration': 0,\n",
    "  'State': 'running',\n",
    "  'Name': 'Development',\n",
    "  'Region': 'US East (N. Virginia)',\n",
    "  'Price': 0.023},\n",
    " {'InstanceType': 't2.micro',\n",
    "  'RunningDuration': 56,\n",
    "  'State': 'running',\n",
    "  'Name': 'Ety Wordpress',\n",
    "  'Region': 'US East (N. Virginia)',\n",
    "  'Price': 0.0116},\n",
    " {'InstanceType': 'n1-highmem-8',\n",
    "  'RunningDuration': None,\n",
    "  'State': 'terminated',\n",
    "  'Name': 'fastai-instance',\n",
    "  'Region': 'us-east1-b',\n",
    "  'Price': 2.14},\n",
    " {'InstanceType': 'n1-highmem-8',\n",
    "  'RunningDuration': None,\n",
    "  'State': 'stopping',\n",
    "  'Name': 'fastai-instance-machine-image-1',\n",
    "  'Region': 'us-east1-c',\n",
    "  'Price': 2.14}]\n",
    "assert 41 < get_monthly_spend(instance_details) < 42\n",
    "    "
   ]
  },
  {
   "cell_type": "code",
   "execution_count": null,
   "metadata": {},
   "outputs": [],
   "source": [
    "\n"
   ]
  }
 ],
 "metadata": {
  "kernelspec": {
   "display_name": "instance_manager",
   "language": "python",
   "name": "instance_manager"
  },
  "language_info": {
   "codemirror_mode": {
    "name": "ipython",
    "version": 3
   },
   "file_extension": ".py",
   "mimetype": "text/x-python",
   "name": "python",
   "nbconvert_exporter": "python",
   "pygments_lexer": "ipython3",
   "version": "3.7.3"
  },
  "varInspector": {
   "cols": {
    "lenName": 16,
    "lenType": 16,
    "lenVar": 40
   },
   "kernels_config": {
    "python": {
     "delete_cmd_postfix": "",
     "delete_cmd_prefix": "del ",
     "library": "var_list.py",
     "varRefreshCmd": "print(var_dic_list())"
    },
    "r": {
     "delete_cmd_postfix": ") ",
     "delete_cmd_prefix": "rm(",
     "library": "var_list.r",
     "varRefreshCmd": "cat(var_dic_list()) "
    }
   },
   "types_to_exclude": [
    "module",
    "function",
    "builtin_function_or_method",
    "instance",
    "_Feature"
   ],
   "window_display": false
  }
 },
 "nbformat": 4,
 "nbformat_minor": 4
}
